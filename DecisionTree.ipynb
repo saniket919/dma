import pandas as pd
import numpy as np
import matplotlib.pyplot as pltt
from sklearn.datasets import load_iris
iris=load_iris()
df=pd.DataFrame(iris.data,columns=iris.feature_names)
# import seaborn as sns
# df=sns.load_Dataset('iris')
df.head()
from sklearn.tree import DecisionTreeClassifier
df['Species'].unique()
df['Species']=df['Species'].map({'setosa':0,'versicolor':1,'virginica':2})
classifier=DecisionTreeClassifier(criterion= 'entropy')
classifier.fit(df.iloc[:,:,-1],df.iloc[:,:,-1])
from sklearn import tree
pltt.figure(figsize=(15,10))
tree.plot_tree(classifier,filled=true)